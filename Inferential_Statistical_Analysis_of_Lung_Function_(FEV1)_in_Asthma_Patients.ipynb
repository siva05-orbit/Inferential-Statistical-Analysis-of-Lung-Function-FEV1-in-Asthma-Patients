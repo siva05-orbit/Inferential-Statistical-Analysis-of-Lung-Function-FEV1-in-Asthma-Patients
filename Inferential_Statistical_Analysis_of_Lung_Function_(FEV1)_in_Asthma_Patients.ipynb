{
  "nbformat": 4,
  "nbformat_minor": 0,
  "metadata": {
    "colab": {
      "provenance": []
    },
    "kernelspec": {
      "name": "python3",
      "display_name": "Python 3"
    },
    "language_info": {
      "name": "python"
    }
  },
  "cells": [
    {
      "cell_type": "code",
      "execution_count": 5,
      "metadata": {
        "colab": {
          "base_uri": "https://localhost:8080/",
          "height": 1000
        },
        "id": "MILKSBuDIbP3",
        "outputId": "0d5ec035-2b0d-4b33-e26e-9cf40e5bb6bf"
      },
      "outputs": [
        {
          "output_type": "stream",
          "name": "stdout",
          "text": [
            "Requirement already satisfied: pandas in /usr/local/lib/python3.12/dist-packages (2.2.2)\n",
            "Requirement already satisfied: numpy in /usr/local/lib/python3.12/dist-packages (2.0.2)\n",
            "Requirement already satisfied: scipy in /usr/local/lib/python3.12/dist-packages (1.16.2)\n",
            "Requirement already satisfied: statsmodels in /usr/local/lib/python3.12/dist-packages (0.14.5)\n",
            "Requirement already satisfied: matplotlib in /usr/local/lib/python3.12/dist-packages (3.10.0)\n",
            "Requirement already satisfied: seaborn in /usr/local/lib/python3.12/dist-packages (0.13.2)\n",
            "Requirement already satisfied: openpyxl in /usr/local/lib/python3.12/dist-packages (3.1.5)\n",
            "Requirement already satisfied: python-dateutil>=2.8.2 in /usr/local/lib/python3.12/dist-packages (from pandas) (2.9.0.post0)\n",
            "Requirement already satisfied: pytz>=2020.1 in /usr/local/lib/python3.12/dist-packages (from pandas) (2025.2)\n",
            "Requirement already satisfied: tzdata>=2022.7 in /usr/local/lib/python3.12/dist-packages (from pandas) (2025.2)\n",
            "Requirement already satisfied: patsy>=0.5.6 in /usr/local/lib/python3.12/dist-packages (from statsmodels) (1.0.1)\n",
            "Requirement already satisfied: packaging>=21.3 in /usr/local/lib/python3.12/dist-packages (from statsmodels) (25.0)\n",
            "Requirement already satisfied: contourpy>=1.0.1 in /usr/local/lib/python3.12/dist-packages (from matplotlib) (1.3.3)\n",
            "Requirement already satisfied: cycler>=0.10 in /usr/local/lib/python3.12/dist-packages (from matplotlib) (0.12.1)\n",
            "Requirement already satisfied: fonttools>=4.22.0 in /usr/local/lib/python3.12/dist-packages (from matplotlib) (4.60.0)\n",
            "Requirement already satisfied: kiwisolver>=1.3.1 in /usr/local/lib/python3.12/dist-packages (from matplotlib) (1.4.9)\n",
            "Requirement already satisfied: pillow>=8 in /usr/local/lib/python3.12/dist-packages (from matplotlib) (11.3.0)\n",
            "Requirement already satisfied: pyparsing>=2.3.1 in /usr/local/lib/python3.12/dist-packages (from matplotlib) (3.2.4)\n",
            "Requirement already satisfied: et-xmlfile in /usr/local/lib/python3.12/dist-packages (from openpyxl) (2.0.0)\n",
            "Requirement already satisfied: six>=1.5 in /usr/local/lib/python3.12/dist-packages (from python-dateutil>=2.8.2->pandas) (1.17.0)\n"
          ]
        },
        {
          "output_type": "stream",
          "name": "stderr",
          "text": [
            "/tmp/ipython-input-3205319041.py:35: DeprecationWarning: Conversion of an array with ndim > 0 to a scalar is deprecated, and will error in future. Ensure you extract a single element from your array before performing this operation. (Deprecated NumPy 1.25.)\n",
            "  data['FEV1'][i] = np.random.normal(38, 11, 1)\n",
            "/tmp/ipython-input-3205319041.py:31: DeprecationWarning: Conversion of an array with ndim > 0 to a scalar is deprecated, and will error in future. Ensure you extract a single element from your array before performing this operation. (Deprecated NumPy 1.25.)\n",
            "  data['FEV1'][i] = np.random.normal(77, 13, 1)\n",
            "/tmp/ipython-input-3205319041.py:33: DeprecationWarning: Conversion of an array with ndim > 0 to a scalar is deprecated, and will error in future. Ensure you extract a single element from your array before performing this operation. (Deprecated NumPy 1.25.)\n",
            "  data['FEV1'][i] = np.random.normal(58, 15, 1)\n"
          ]
        },
        {
          "output_type": "stream",
          "name": "stdout",
          "text": [
            "Missing Values:\n",
            " Age         0\n",
            "Sex         0\n",
            "BMI         0\n",
            "Smoking     0\n",
            "Severity    0\n",
            "FEV1        0\n",
            "dtype: int64\n",
            "\n",
            "Dataset saved as 'asthma_data.csv'\n",
            "\n",
            "=== One-Sample T-Test (FEV1 vs. 80%) ===\n",
            "Sample Mean FEV1: 61.81 (SD: 19.41, n=300)\n",
            "t-statistic: -16.24, p-value: 5.98e-43\n",
            "Decision: Reject H0\n",
            "\n",
            "=== Two-Sample T-Test (FEV1: Male vs. Female) ===\n",
            "Male Mean FEV1: 62.47 (SD: 19.75, n=141)\n",
            "Female Mean FEV1: 61.22 (SD: 19.14, n=159)\n",
            "t-statistic: 0.55, p-value: 0.580\n",
            "Fail to reject H0\n",
            "\n",
            "=== One-Way ANOVA (FEV1 by Severity) ===\n",
            "Group Means: Mild=76.52, Moderate=59.90, Severe=38.42\n",
            "F-statistic: 155.09, p-value: 7.62e-47\n",
            "Decision: Reject H0\n",
            "\n",
            "=== Tukey HSD Post-Hoc Test ===\n",
            "   Multiple Comparison of Means - Tukey HSD, FWER=0.05   \n",
            "=========================================================\n",
            " group1   group2  meandiff p-adj  lower    upper   reject\n",
            "---------------------------------------------------------\n",
            "    Mild Moderate -16.6149   0.0 -20.7652 -12.4647   True\n",
            "    Mild   Severe -38.0973   0.0  -43.229 -32.9656   True\n",
            "Moderate   Severe -21.4823   0.0 -26.5009 -16.4638   True\n",
            "---------------------------------------------------------\n"
          ]
        },
        {
          "output_type": "display_data",
          "data": {
            "text/plain": [
              "<Figure size 800x600 with 1 Axes>"
            ],
            "image/png": "[encoded data removed]"
          },
          "metadata": {}
        },
        {
          "output_type": "stream",
          "name": "stderr",
          "text": [
            "/tmp/ipython-input-3205319041.py:99: FutureWarning: \n",
            "\n",
            "Passing `palette` without assigning `hue` is deprecated and will be removed in v0.14.0. Assign the `x` variable to `hue` and set `legend=False` for the same effect.\n",
            "\n",
            "  sns.boxplot(x='Severity', y='FEV1', data=df, order=['Mild', 'Moderate', 'Severe'], palette='Set2')\n"
          ]
        },
        {
          "output_type": "display_data",
          "data": {
            "text/plain": [
              "<Figure size 800x600 with 1 Axes>"
            ],
            "image/png": "[encoded data removed]"
          },
          "metadata": {}
        },
        {
          "output_type": "stream",
          "name": "stderr",
          "text": [
            "/tmp/ipython-input-3205319041.py:108: FutureWarning: \n",
            "\n",
            "Passing `palette` without assigning `hue` is deprecated and will be removed in v0.14.0. Assign the `x` variable to `hue` and set `legend=False` for the same effect.\n",
            "\n",
            "  sns.boxplot(x='Sex', y='FEV1', data=df, palette='Set1')\n"
          ]
        },
        {
          "output_type": "display_data",
          "data": {
            "text/plain": [
              "<Figure size 800x600 with 1 Axes>"
            ],
            "image/png": "[encoded data removed]"
          },
          "metadata": {}
        },
        {
          "output_type": "stream",
          "name": "stdout",
          "text": [
            "\n",
            "Excel file saved as 'YourName_CaseStudy.xlsx' with Data, Results, and README sheets\n"
          ]
        },
        {
          "output_type": "display_data",
          "data": {
            "text/plain": [
              "<IPython.core.display.Javascript object>"
            ],
            "application/javascript": [
              "\n",
              "    async function download(id, filename, size) {\n",
              "      if (!google.colab.kernel.accessAllowed) {\n",
              "        return;\n",
              "      }\n",
              "      const div = document.createElement('div');\n",
              "      const label = document.createElement('label');\n",
              "      label.textContent = `Downloading \"${filename}\": `;\n",
              "      div.appendChild(label);\n",
              "      const progress = document.createElement('progress');\n",
              "      progress.max = size;\n",
              "      div.appendChild(progress);\n",
              "      document.body.appendChild(div);\n",
              "\n",
              "      const buffers = [];\n",
              "      let downloaded = 0;\n",
              "\n",
              "      const channel = await google.colab.kernel.comms.open(id);\n",
              "      // Send a message to notify the kernel that we're ready.\n",
              "      channel.send({})\n",
              "\n",
              "      for await (const message of channel.messages) {\n",
              "        // Send a message to notify the kernel that we're ready.\n",
              "        channel.send({})\n",
              "        if (message.buffers) {\n",
              "          for (const buffer of message.buffers) {\n",
              "            buffers.push(buffer);\n",
              "            downloaded += buffer.byteLength;\n",
              "            progress.value = downloaded;\n",
              "          }\n",
              "        }\n",
              "      }\n",
              "      const blob = new Blob(buffers, {type: 'application/binary'});\n",
              "      const a = document.createElement('a');\n",
              "      a.href = window.URL.createObjectURL(blob);\n",
              "      a.download = filename;\n",
              "      div.appendChild(a);\n",
              "      a.click();\n",
              "      div.remove();\n",
              "    }\n",
              "  "
            ]
          },
          "metadata": {}
        },
        {
          "output_type": "display_data",
          "data": {
            "text/plain": [
              "<IPython.core.display.Javascript object>"
            ],
            "application/javascript": [
              "download(\"download_6ecd52ba-7d17-476d-9281-3eb33a624dad\", \"asthma_data.csv\", 14930)"
            ]
          },
          "metadata": {}
        },
        {
          "output_type": "display_data",
          "data": {
            "text/plain": [
              "<IPython.core.display.Javascript object>"
            ],
            "application/javascript": [
              "\n",
              "    async function download(id, filename, size) {\n",
              "      if (!google.colab.kernel.accessAllowed) {\n",
              "        return;\n",
              "      }\n",
              "      const div = document.createElement('div');\n",
              "      const label = document.createElement('label');\n",
              "      label.textContent = `Downloading \"${filename}\": `;\n",
              "      div.appendChild(label);\n",
              "      const progress = document.createElement('progress');\n",
              "      progress.max = size;\n",
              "      div.appendChild(progress);\n",
              "      document.body.appendChild(div);\n",
              "\n",
              "      const buffers = [];\n",
              "      let downloaded = 0;\n",
              "\n",
              "      const channel = await google.colab.kernel.comms.open(id);\n",
              "      // Send a message to notify the kernel that we're ready.\n",
              "      channel.send({})\n",
              "\n",
              "      for await (const message of channel.messages) {\n",
              "        // Send a message to notify the kernel that we're ready.\n",
              "        channel.send({})\n",
              "        if (message.buffers) {\n",
              "          for (const buffer of message.buffers) {\n",
              "            buffers.push(buffer);\n",
              "            downloaded += buffer.byteLength;\n",
              "            progress.value = downloaded;\n",
              "          }\n",
              "        }\n",
              "      }\n",
              "      const blob = new Blob(buffers, {type: 'application/binary'});\n",
              "      const a = document.createElement('a');\n",
              "      a.href = window.URL.createObjectURL(blob);\n",
              "      a.download = filename;\n",
              "      div.appendChild(a);\n",
              "      a.click();\n",
              "      div.remove();\n",
              "    }\n",
              "  "
            ]
          },
          "metadata": {}
        },
        {
          "output_type": "display_data",
          "data": {
            "text/plain": [
              "<IPython.core.display.Javascript object>"
            ],
            "application/javascript": [
              "download(\"download_1ce3bc95-80ac-46ee-8311-52373e2f1faf\", \"YourName_CaseStudy.xlsx\", 18369)"
            ]
          },
          "metadata": {}
        },
        {
          "output_type": "display_data",
          "data": {
            "text/plain": [
              "<IPython.core.display.Javascript object>"
            ],
            "application/javascript": [
              "\n",
              "    async function download(id, filename, size) {\n",
              "      if (!google.colab.kernel.accessAllowed) {\n",
              "        return;\n",
              "      }\n",
              "      const div = document.createElement('div');\n",
              "      const label = document.createElement('label');\n",
              "      label.textContent = `Downloading \"${filename}\": `;\n",
              "      div.appendChild(label);\n",
              "      const progress = document.createElement('progress');\n",
              "      progress.max = size;\n",
              "      div.appendChild(progress);\n",
              "      document.body.appendChild(div);\n",
              "\n",
              "      const buffers = [];\n",
              "      let downloaded = 0;\n",
              "\n",
              "      const channel = await google.colab.kernel.comms.open(id);\n",
              "      // Send a message to notify the kernel that we're ready.\n",
              "      channel.send({})\n",
              "\n",
              "      for await (const message of channel.messages) {\n",
              "        // Send a message to notify the kernel that we're ready.\n",
              "        channel.send({})\n",
              "        if (message.buffers) {\n",
              "          for (const buffer of message.buffers) {\n",
              "            buffers.push(buffer);\n",
              "            downloaded += buffer.byteLength;\n",
              "            progress.value = downloaded;\n",
              "          }\n",
              "        }\n",
              "      }\n",
              "      const blob = new Blob(buffers, {type: 'application/binary'});\n",
              "      const a = document.createElement('a');\n",
              "      a.href = window.URL.createObjectURL(blob);\n",
              "      a.download = filename;\n",
              "      div.appendChild(a);\n",
              "      a.click();\n",
              "      div.remove();\n",
              "    }\n",
              "  "
            ]
          },
          "metadata": {}
        },
        {
          "output_type": "display_data",
          "data": {
            "text/plain": [
              "<IPython.core.display.Javascript object>"
            ],
            "application/javascript": [
              "download(\"download_44b76b05-bfe6-47d0-b950-7553f4e8e8da\", \"fev1_histogram.png\", 36059)"
            ]
          },
          "metadata": {}
        },
        {
          "output_type": "display_data",
          "data": {
            "text/plain": [
              "<IPython.core.display.Javascript object>"
            ],
            "application/javascript": [
              "\n",
              "    async function download(id, filename, size) {\n",
              "      if (!google.colab.kernel.accessAllowed) {\n",
              "        return;\n",
              "      }\n",
              "      const div = document.createElement('div');\n",
              "      const label = document.createElement('label');\n",
              "      label.textContent = `Downloading \"${filename}\": `;\n",
              "      div.appendChild(label);\n",
              "      const progress = document.createElement('progress');\n",
              "      progress.max = size;\n",
              "      div.appendChild(progress);\n",
              "      document.body.appendChild(div);\n",
              "\n",
              "      const buffers = [];\n",
              "      let downloaded = 0;\n",
              "\n",
              "      const channel = await google.colab.kernel.comms.open(id);\n",
              "      // Send a message to notify the kernel that we're ready.\n",
              "      channel.send({})\n",
              "\n",
              "      for await (const message of channel.messages) {\n",
              "        // Send a message to notify the kernel that we're ready.\n",
              "        channel.send({})\n",
              "        if (message.buffers) {\n",
              "          for (const buffer of message.buffers) {\n",
              "            buffers.push(buffer);\n",
              "            downloaded += buffer.byteLength;\n",
              "            progress.value = downloaded;\n",
              "          }\n",
              "        }\n",
              "      }\n",
              "      const blob = new Blob(buffers, {type: 'application/binary'});\n",
              "      const a = document.createElement('a');\n",
              "      a.href = window.URL.createObjectURL(blob);\n",
              "      a.download = filename;\n",
              "      div.appendChild(a);\n",
              "      a.click();\n",
              "      div.remove();\n",
              "    }\n",
              "  "
            ]
          },
          "metadata": {}
        },
        {
          "output_type": "display_data",
          "data": {
            "text/plain": [
              "<IPython.core.display.Javascript object>"
            ],
            "application/javascript": [
              "download(\"download_5095eec6-8494-478b-843c-5c24e811b2ca\", \"fev1_boxplot_severity.png\", 19739)"
            ]
          },
          "metadata": {}
        },
        {
          "output_type": "display_data",
          "data": {
            "text/plain": [
              "<IPython.core.display.Javascript object>"
            ],
            "application/javascript": [
              "\n",
              "    async function download(id, filename, size) {\n",
              "      if (!google.colab.kernel.accessAllowed) {\n",
              "        return;\n",
              "      }\n",
              "      const div = document.createElement('div');\n",
              "      const label = document.createElement('label');\n",
              "      label.textContent = `Downloading \"${filename}\": `;\n",
              "      div.appendChild(label);\n",
              "      const progress = document.createElement('progress');\n",
              "      progress.max = size;\n",
              "      div.appendChild(progress);\n",
              "      document.body.appendChild(div);\n",
              "\n",
              "      const buffers = [];\n",
              "      let downloaded = 0;\n",
              "\n",
              "      const channel = await google.colab.kernel.comms.open(id);\n",
              "      // Send a message to notify the kernel that we're ready.\n",
              "      channel.send({})\n",
              "\n",
              "      for await (const message of channel.messages) {\n",
              "        // Send a message to notify the kernel that we're ready.\n",
              "        channel.send({})\n",
              "        if (message.buffers) {\n",
              "          for (const buffer of message.buffers) {\n",
              "            buffers.push(buffer);\n",
              "            downloaded += buffer.byteLength;\n",
              "            progress.value = downloaded;\n",
              "          }\n",
              "        }\n",
              "      }\n",
              "      const blob = new Blob(buffers, {type: 'application/binary'});\n",
              "      const a = document.createElement('a');\n",
              "      a.href = window.URL.createObjectURL(blob);\n",
              "      a.download = filename;\n",
              "      div.appendChild(a);\n",
              "      a.click();\n",
              "      div.remove();\n",
              "    }\n",
              "  "
            ]
          },
          "metadata": {}
        },
        {
          "output_type": "display_data",
          "data": {
            "text/plain": [
              "<IPython.core.display.Javascript object>"
            ],
            "application/javascript": [
              "download(\"download_5daa1c97-4879-4ba0-aa0d-ee9c88b548ad\", \"fev1_boxplot_sex.png\", 15244)"
            ]
          },
          "metadata": {}
        },
        {
          "output_type": "stream",
          "name": "stdout",
          "text": [
            "\n",
            "All files downloaded: asthma_data.csv, YourName_CaseStudy.xlsx, and PNG visualizations\n"
          ]
        }
      ],
      "source": [
        "# Install required packages (if not already installed in Colab)\n",
        "!pip install pandas numpy scipy statsmodels matplotlib seaborn openpyxl\n",
        "\n",
        "# Import libraries\n",
        "import pandas as pd\n",
        "import numpy as np\n",
        "from scipy import stats\n",
        "import statsmodels.api as sm\n",
        "from statsmodels.stats.multicomp import pairwise_tukeyhsd\n",
        "import matplotlib.pyplot as plt\n",
        "import seaborn as sns\n",
        "from google.colab import files\n",
        "\n",
        "# Set random seed for reproducibility\n",
        "np.random.seed(42)\n",
        "\n",
        "# 1. Generate Synthetic Asthma Dataset (n=300, unique for case study)\n",
        "n = 300\n",
        "data = {\n",
        "    'Age': np.random.randint(18, 81, n),\n",
        "    'Sex': np.random.choice(['Male', 'Female'], n, p=[0.5067, 0.4933]),\n",
        "    'BMI': np.round(np.random.normal(27, 5, n), 2),\n",
        "    'Smoking': np.random.choice(['Smoker', 'Non-Smoker'], n, p=[0.3067, 0.6933]),\n",
        "    'Severity': np.random.choice(['Mild', 'Moderate', 'Severe'], n, p=[0.3833, 0.42, 0.1967]),\n",
        "    'FEV1': np.zeros(n)\n",
        "}\n",
        "\n",
        "# Generate FEV1 based on severity to mimic realistic distributions\n",
        "for i, sev in enumerate(data['Severity']):\n",
        "    if sev == 'Mild':\n",
        "        data['FEV1'][i] = np.random.normal(77, 13, 1)\n",
        "    elif sev == 'Moderate':\n",
        "        data['FEV1'][i] = np.random.normal(58, 15, 1)\n",
        "    else:  # Severe\n",
        "        data['FEV1'][i] = np.random.normal(38, 11, 1)\n",
        "\n",
        "# Create DataFrame\n",
        "df = pd.DataFrame(data)\n",
        "\n",
        "# Data Cleaning: Clip FEV1 and BMI to realistic ranges, ensure no negatives\n",
        "df['FEV1'] = df['FEV1'].clip(lower=20, upper=120)\n",
        "df['BMI'] = df['BMI'].clip(lower=15, upper=50)\n",
        "\n",
        "# Verify no missing values\n",
        "print(\"Missing Values:\\n\", df.isnull().sum())\n",
        "\n",
        "# Save dataset to CSV for Excel/SPSS import\n",
        "df.to_csv('asthma_data.csv', index=False)\n",
        "print(\"\\nDataset saved as 'asthma_data.csv'\")\n",
        "\n",
        "# 2. One-Sample T-Test (FEV1 vs. reference 80%)\n",
        "print(\"\\n=== One-Sample T-Test (FEV1 vs. 80%) ===\")\n",
        "t_stat_one, p_value_one = stats.ttest_1samp(df['FEV1'], 80)\n",
        "mean_fev1 = df['FEV1'].mean()\n",
        "sd_fev1 = df['FEV1'].std()\n",
        "print(f\"Sample Mean FEV1: {mean_fev1:.2f} (SD: {sd_fev1:.2f}, n={len(df)})\")\n",
        "print(f\"t-statistic: {t_stat_one:.2f}, p-value: {p_value_one:.2e}\")\n",
        "print(\"Decision: Reject H0\" if p_value_one < 0.05 else \"Fail to reject H0\")\n",
        "\n",
        "# 3. Two-Sample T-Test (FEV1: Male vs. Female) [VIVA DEMO SECTION]\n",
        "print(\"\\n=== Two-Sample T-Test (FEV1: Male vs. Female) ===\")\n",
        "male_fev = df[df['Sex'] == 'Male']['FEV1']\n",
        "female_fev = df[df['Sex'] == 'Female']['FEV1']\n",
        "t_stat_two, p_value_two = stats.ttest_ind(male_fev, female_fev, equal_var=False)  # Welch's test\n",
        "print(f\"Male Mean FEV1: {male_fev.mean():.2f} (SD: {male_fev.std():.2f}, n={len(male_fev)})\")\n",
        "print(f\"Female Mean FEV1: {female_fev.mean():.2f} (SD: {female_fev.std():.2f}, n={len(female_fev)})\")\n",
        "print(f\"t-statistic: {t_stat_two:.2f}, p-value: {p_value_two:.3f}\")\n",
        "print(\"Decision: Reject H0\" if p_value_two < 0.05 else \"Fail to reject H0\")\n",
        "\n",
        "# 4. One-Way ANOVA (FEV1 across Severity groups)\n",
        "print(\"\\n=== One-Way ANOVA (FEV1 by Severity) ===\")\n",
        "mild = df[df['Severity'] == 'Mild']['FEV1']\n",
        "moderate = df[df['Severity'] == 'Moderate']['FEV1']\n",
        "severe = df[df['Severity'] == 'Severe']['FEV1']\n",
        "f_stat, p_value_anova = stats.f_oneway(mild, moderate, severe)\n",
        "print(f\"Group Means: Mild={mild.mean():.2f}, Moderate={moderate.mean():.2f}, Severe={severe.mean():.2f}\")\n",
        "print(f\"F-statistic: {f_stat:.2f}, p-value: {p_value_anova:.2e}\")\n",
        "print(\"Decision: Reject H0\" if p_value_anova < 0.05 else \"Fail to reject H0\")\n",
        "\n",
        "# Post-Hoc Test (Tukey HSD)\n",
        "print(\"\\n=== Tukey HSD Post-Hoc Test ===\")\n",
        "tukey = pairwise_tukeyhsd(df['FEV1'], df['Severity'], alpha=0.05)\n",
        "print(tukey)\n",
        "\n",
        "# 5. Visualizations\n",
        "# Histogram for FEV1 distribution\n",
        "plt.figure(figsize=(8, 6))\n",
        "sns.histplot(df['FEV1'], kde=True, color='blue')\n",
        "plt.axvline(80, color='red', linestyle='--', label='Reference (80%)')\n",
        "plt.title('Distribution of FEV1 (% Predicted)')\n",
        "plt.xlabel('FEV1 (% Predicted)')\n",
        "plt.ylabel('Frequency')\n",
        "plt.legend()\n",
        "plt.savefig('fev1_histogram.png')\n",
        "plt.show()\n",
        "\n",
        "# Boxplot for FEV1 by Severity\n",
        "plt.figure(figsize=(8, 6))\n",
        "sns.boxplot(x='Severity', y='FEV1', data=df, order=['Mild', 'Moderate', 'Severe'], palette='Set2')\n",
        "plt.title('FEV1 by Asthma Severity')\n",
        "plt.xlabel('Severity')\n",
        "plt.ylabel('FEV1 (% Predicted)')\n",
        "plt.savefig('fev1_boxplot_severity.png')\n",
        "plt.show()\n",
        "\n",
        "# Boxplot for FEV1 by Sex\n",
        "plt.figure(figsize=(8, 6))\n",
        "sns.boxplot(x='Sex', y='FEV1', data=df, palette='Set1')\n",
        "plt.title('FEV1 by Sex')\n",
        "plt.xlabel('Sex')\n",
        "plt.ylabel('FEV1 (% Predicted)')\n",
        "plt.savefig('fev1_boxplot_sex.png')\n",
        "plt.show()\n",
        "\n",
        "# 6. Export Results to Excel for Submission\n",
        "results = {\n",
        "    'Test': ['One-Sample T-Test', 'Two-Sample T-Test (Male)', 'Two-Sample T-Test (Female)', 'ANOVA'],\n",
        "    'Statistic': [f't={t_stat_one:.2f}', f't={t_stat_two:.2f}', f't={t_stat_two:.2f}', f'F={f_stat:.2f}'],\n",
        "    'p-value': [f'{p_value_one:.2e}', f'{p_value_two:.3f}', f'{p_value_two:.3f}', f'{p_value_anova:.2e}'],\n",
        "    'Mean': [f'{mean_fev1:.2f}', f'{male_fev.mean():.2f}', f'{female_fev.mean():.2f}', 'N/A'],\n",
        "    'SD': [f'{sd_fev1:.2f}', f'{male_fev.std():.2f}', f'{female_fev.std():.2f}', 'N/A'],\n",
        "    'Decision': ['Reject H0' if p_value_one < 0.05 else 'Fail to reject H0',\n",
        "                 'Reject H0' if p_value_two < 0.05 else 'Fail to reject H0',\n",
        "                 'Reject H0' if p_value_two < 0.05 else 'Fail to reject H0',\n",
        "                 'Reject H0' if p_value_anova < 0.05 else 'Fail to reject H0']\n",
        "}\n",
        "results_df = pd.DataFrame(results)\n",
        "\n",
        "# README sheet for variable descriptions\n",
        "readme = pd.DataFrame({\n",
        "    'Variable': ['Age', 'Sex', 'BMI', 'Smoking', 'Severity', 'FEV1'],\n",
        "    'Type': ['Continuous (int)', 'Categorical', 'Continuous', 'Categorical', 'Categorical', 'Continuous'],\n",
        "    'Description': ['Patient age in years', 'Gender', 'Body Mass Index', 'Smoking status', 'Asthma severity', 'FEV1 % predicted (lung function)'],\n",
        "    'Range/Levels': ['18-80', 'Male, Female', '15-50', 'Smoker, Non-Smoker', 'Mild, Moderate, Severe', '20-120']\n",
        "})\n",
        "\n",
        "# Save to Excel with multiple sheets\n",
        "with pd.ExcelWriter('YourName_CaseStudy.xlsx', engine='openpyxl') as writer:\n",
        "    df.to_excel(writer, sheet_name='Data', index=False)\n",
        "    results_df.to_excel(writer, sheet_name='Results', index=False)\n",
        "    readme.to_excel(writer, sheet_name='README', index=False)\n",
        "print(\"\\nExcel file saved as 'YourName_CaseStudy.xlsx' with Data, Results, and README sheets\")\n",
        "\n",
        "# Download files for submission\n",
        "files.download('asthma_data.csv')\n",
        "files.download('YourName_CaseStudy.xlsx')\n",
        "files.download('fev1_histogram.png')\n",
        "files.download('fev1_boxplot_severity.png')\n",
        "files.download('fev1_boxplot_sex.png')\n",
        "print(\"\\nAll files downloaded: asthma_data.csv, YourName_CaseStudy.xlsx, and PNG visualizations\")\n"
      ]
    },
    {
      "cell_type": "code",
      "source": [],
      "metadata": {
        "id": "VDXZ1N8kIc5T"
      },
      "execution_count": null,
      "outputs": []
    }
  ]
}